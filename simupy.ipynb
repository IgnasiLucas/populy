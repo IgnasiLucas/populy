{
 "cells": [
  {
   "cell_type": "markdown",
   "id": "75468b94",
   "metadata": {},
   "source": [
    "## Population\n",
    "Primero creamos la clase poblacion, tendra atributos generales de toda la poblacion como el nombre, tama;o, ploidia y vida media (habran mas seguramente).\n",
    "\n",
    "Despues se crea la clase individuo, que hereda de poblacion sus atributos y ademas tendra otros tales como el identificador, la edad, el sexo, su genotipo y quiza sus padres **ver como implementar**\n",
    "\n",
    "### Funciones\n",
    "#### init\n",
    "Inicializa los atributos, que son\n",
    "- **name** : nombre de la poblacion, no relevante\n",
    "- **size** : tama;o de la poblacion, utilizado para recorrer posteriormente los individuos entre otras\n",
    "- **ploidy** : indica si la pob esta formada por individuos haploides(1) o diploides(2)\n",
    "- **vida media** : todavia sin uso, se implementara posteriormente para generar una dist de edades y para hacerla evolucionar.\n",
    "\n",
    "Estos son los atributos que el usuario debera pasar (tiene valores por defecto), ademas se encuentran otros como:\n",
    "\n",
    "- **gen1List,gen2List** : lista con los genotipos(alelos) posibles, ahora mismo esto da problemas porque tienen que ser accesibles por la subclase Individuals pero no lo son.\n",
    "#### _getGen..\n",
    "Este nuevo metodo se ha hecho para hacer accesible los atributos fuera de la clase y en la subclase pero tambien da problemas.\n",
    "\n",
    "#### generateIndividuals\n",
    "No se le pasa ningun parametro (posiblemente se cambie ya que el usuario deberia poder elegir ciertas cosas), tampoco devuelve ninguno.\n",
    "Dentro, genera **indiv** que es una lista de objetos tipo **individuo** de tama;o size, ademas printa por pantalla que se ha completado el proceso\n",
    "#### printIndiv\n",
    "recorre la lista en un bucle y printa los atributos de cada instancia de individuo en la lista hay que **ver como hacer para printar solo un rango determinado**\n",
    "#### getMeanAge\n",
    "Calcula la edad media de la poblacion, de momento siempre 0\n",
    "#### allGenotypes\n",
    "Funcion que genera listas globales para que sean accesibles por la clase hija (probablemente haya otra forma mejor de hacerlo), estas listas contienen los alelos posibles para cada gen\n",
    "#### getGenotype\n",
    "Todavia no implementada, en un futuro te dira un resumen de los genotipos: frecuencia\n",
    "#### summary\n",
    "En un futuro, te dara un resumen de todos los atributos de la poblacion (media de edad, frecuencia de cada sexo, frecuencias alelicas, genotipicas y fenotipicas) todo esto lo hara probablemente llamando a otras funciones\n"
   ]
  },
  {
   "cell_type": "code",
   "execution_count": 44,
   "id": "4ca069c6",
   "metadata": {},
   "outputs": [],
   "source": [
    "from random import randint\n",
    "\n",
    "#clase poblacion,atributos generales que heredara de los individuos\n",
    "class Population:\n",
    "\n",
    "    def __init__(self,size = 100,\n",
    "                 name=\"Homo sapiens\",\n",
    "                 ploidy = 2, \n",
    "                 vida_media=55,\n",
    "                 R=0.1,\n",
    "                 mu = (1e-4,1e-4),\n",
    "                 freq={'A':(0.4,0.6),'B':(0.6,0.4)}):\n",
    "                 \n",
    "        self.name = name\n",
    "        self.size = size\n",
    "        self.ploidy = ploidy\n",
    "        self.gen1List = []\n",
    "        self.gen2List = []\n",
    "        self.vida_media = vida_media\n",
    "        self.freq = freq\n",
    "        self.mu = mu\n",
    "    \n",
    "    #genera indivividuos\n",
    "    def generateIndividuals(self):\n",
    "        #ejecuta la funcion para crear las variables globales que contengan los genotipos posibles\n",
    "        self.allGenotypes()\n",
    "        self.indiv = [Individual(i,self.name,self.size,self.ploidy,\n",
    "                                 self.gen1List,self.gen2List,self.vida_media) \n",
    "                      for i in range(self.size)]\n",
    "        print(\"se han generado un total de {} individuos de la poblacion {}\".format(self.size,self.name))\n",
    "        \n",
    "    #printa individuos        \n",
    "    def printIndiv(self,show=5):\n",
    "        print(\"IDENTIF SEX AGE GENOTYPE\".replace(\" \",\"\\t\"))\n",
    "        for x in self.indiv:\n",
    "            print (x.ide,x.sex,x.age,*x.genotype.values(),sep=\"\\t\")\n",
    "            #contador inverso, si se han enseñado show elementos para la ejecucion\n",
    "            show += -1\n",
    "            if show == 0:\n",
    "                break\n",
    "                \n",
    "    #funcion que calcula las frecuencias genotipicas\n",
    "    def genotFreq(self):\n",
    "        self.geneticPool = dict()\n",
    "        if self.ploidy == 2:\n",
    "            for key,lista in self.freq.items():\n",
    "                self.geneticPool[key] = (int(lista[0]**2),\n",
    "                                         int(lista[0]*lista[1]*2),int(lista[1]**2))\n",
    "                self.geneticPool[key] = [x*self.size for x in self.geneticPool[key]]\n",
    "            print(self.geneticPool)\n",
    "        elif self.ploidy == 1:\n",
    "            self.geneticPool = self.freq\n",
    "             \n",
    "    def getMeanAge(self):\n",
    "        #obtienes la edad media recorriendo la lista de individuos\n",
    "        try:\n",
    "            meanAge = 0\n",
    "            for obj in self.indiv:\n",
    "                meanAge += obj.age\n",
    "            meanAge = round(meanAge/len(self.indiv),2)\n",
    "            print(\"la edad media de la poblacion es: \",meanAge)\n",
    "        except:\n",
    "            print(\"No has inicializado la poblacion\")\n",
    "    #esto quedara obsoleto       \n",
    "    def allGenotypes(self):\n",
    "       #genera una lista de tuplas(n=ploidy=2), cada tupla contiene un alelo\n",
    "        self.gen1List = [x for x in itertools.product('Aa',repeat=self.ploidy)]\n",
    "        #convierte las tuplas en un string ej: ('A','a') to Aa\n",
    "        self.gen1List = [''.join(elem) for elem in self.gen1List]\n",
    "        #cambia el aA por Aa\n",
    "        for pos,elemento in enumerate(self.gen1List):\n",
    "            if elemento == 'aA':\n",
    "                self.gen1List[pos]='Aa'\n",
    "\n",
    "        self.gen2List = [x for x in itertools.product('Bb',repeat=self.ploidy)]\n",
    "        self.gen2List = [''.join(elem) for elem in self.gen2List]\n",
    "        for pos,elemento in enumerate(self.gen2List):\n",
    "            if elemento == 'bB':\n",
    "                self.gen2List[pos]='Bb' \n",
    "                \n",
    "    #esto quedara obsoleto\n",
    "    def getGenotype(self):\n",
    "        counter = {'AA':0,'Aa':0,'aa':0,'BB':0,'Bb':0,'bb':0}      \n",
    "        for elemento in self.indiv:\n",
    "            for key in counter:\n",
    "                if elemento.genotype['gen1'] == key or elemento.genotype['gen2']==key:\n",
    "                    counter[key] += 1\n",
    "        print(counter)              \n",
    "    def summary(self):\n",
    "        pass\n"
   ]
  },
  {
   "cell_type": "markdown",
   "id": "39b87b23",
   "metadata": {},
   "source": [
    "# Individual\n",
    "Individual se trata de una clase que se crea de forma indirecta, llamando un metodo de Population, esta clase no es accesible al usuario. \n",
    "Esta clase consta de los atributos y metodos necesarios para dar lugar a un individuo que formara parte de la poblacion, los atributos son: \n",
    "\n",
    "## atributos\n",
    "- Atributos pasados de la clase Population +...\n",
    "- Sex: tipo string male and female\n",
    "- Ide: identificador, para cada individuo (mirar de construir la lista de individuos con forma de diccionario para acceder por su identificador)\n",
    "- Age: numeric int, comienza en 0\n",
    "- genotype: quiza un diccionario tipo {gen1:'AA',gen2:'Bb'}, en cualquier caso se puede hacer un conjunto con todos los posibles genotipos y escoger aleatoriamente.\n",
    "\n",
    "## Metodos\n",
    "\n",
    "### init\n",
    "Inicializa los atributos vistos anteriormente, la forma de inicializarlos puede no ser la correcta ya que en muchos se esta llamando a un metodo de la clase pero de momento funciona\n",
    "\n",
    "### sex\n",
    "Le da un valor de sexo a cada individuo de forma aleatoria al 50%, no requiere ningun parametro, devuelve male o female\n",
    "### edad\n",
    "Al igual que sex, asigna una edad a cada individuo. Esto habra que repensarlo porque la edad comienza en 0 para todos, dependiendo de como lo quiera implementar cuando la poblacion empiece a evolucionar esta edad debera ir aumentando para todos, algunos individuos iran muriendo = eliminando de la lista de objetos en la poblacion. Si este metodo hace correr el tiempo quiza seria mejor tenerlo en poblacion ya que el tiempo corre para todos igual *revisar*\n",
    "### firstGenotipo y chooseGenotype\n",
    "Genera un diccionario gen:alelos para 2 genes en total (mirar de aumentarlo mas adelante), los alelos se obtienen de la lista de alelos posibles de la clase population y se asigna uno de estos aleatoriamente si asi se quiere, si no se puede inicializar a todos los individuos con el mismo genotipo Aa/Bb. *ver como el usuario pueda pasar esta forma de generar genotipo*, seguramente desde generate individuals se deba pasar un parametro\n"
   ]
  },
  {
   "cell_type": "code",
   "execution_count": 40,
   "id": "c397ddcf",
   "metadata": {},
   "outputs": [],
   "source": [
    "#clase individuo, ya no hereda de poblacion\n",
    "import itertools\n",
    "import random\n",
    "\n",
    "class Individual():\n",
    "\n",
    "    def __init__(self,nom,name,size,ploidy,gen1List,gen2List,vida_media):\n",
    "        #quiza el nombre no sea necesario para nada\n",
    "        self.spName = name\n",
    "        self.spSize = size\n",
    "        self.spPloidy = ploidy\n",
    "        self.gene_1_List = gen1List\n",
    "        self.gene_2_List = gen2List\n",
    "        self.vida_media = vida_media\n",
    "        \n",
    "        self.sex = self.sex()\n",
    "        self.ide = \"id\"+str(nom)\n",
    "        self.age = 0\n",
    "        self.genotype = self.firstGenotipo()\n",
    "        \n",
    "    def sex(self):\n",
    "        if randint(0,1)==0:\n",
    "            return \"Male\"\n",
    "        else:\n",
    "            return 'Female'\n",
    "        \n",
    "    def edad(self):\n",
    "        #el usuario debera pasar algun parametro para indicar la dist por edades\n",
    "        pass\n",
    "    \n",
    "    def firstGenotipo(self,homogeneous=False):\n",
    "        if homogeneous:\n",
    "            return {'gen1':'Aa','gen2':'Bb'}\n",
    "        else:\n",
    "            return self.chooseGenotype()\n",
    "        \n",
    "    def chooseGenotype(self):\n",
    "        dict = {}\n",
    "\n",
    "        dict['gen1']= random.choice(self.gene_1_List)\n",
    "        dict['gen2']= random.choice(self.gene_2_List)\n",
    "        \n",
    "        return dict\n",
    "    \n",
    "#en un principio esto no es necesario ya que no interesa conocer a un individuo concreto\n",
    "    def printer(self):\n",
    "        print(\"este individuo es {}, su sexo es {} y su genotipo es {}\".format(self.ide,self.sex,self.genotype))\n"
   ]
  },
  {
   "cell_type": "markdown",
   "id": "d0a6307c",
   "metadata": {},
   "source": [
    "### Problemas:\n",
    "\n",
    "- Se ha eliminado la estructura de herencia, ahora un metodo (generateIndividuals) de la clase Population crea las nuevas instancias Individual, se les pasan los atributos de Population\n",
    "- Se ha creado la funcion Population.genot() que genera las frecuencias genotipicas a partir de las frecuencias alelicas, hay que encontrar alguna forma de asignar un genotipo a cada individuo dependiendo de la frecuencia genotipica"
   ]
  },
  {
   "cell_type": "code",
   "execution_count": 41,
   "id": "3253b842",
   "metadata": {},
   "outputs": [],
   "source": [
    "#se crea una nueva poblacion donde se especifican caracteristicas generales de esta\n",
    "    #size es el numero de individuos\n",
    "    #name el nombre de la especie\n",
    "    #ploidy es la ploidia de la poblacion (haploide=1,diploide=2)\n",
    "    #vida media es la vida media\n",
    "    #freq son las frecuencias alelicas en cada locus, es una tupla de diccionarios\n",
    "    #mu es la tasa de mutacion de los alelos (de A a a y viceversa..)\n",
    "humanos = Population(size=100,\n",
    "                     name=\"Megadolon\",\n",
    "                     ploidy=2,\n",
    "                     vida_media=23,\n",
    "                     freq={'A':(0.4,0.6),'B':(0.6,0.4)})"
   ]
  },
  {
   "cell_type": "code",
   "execution_count": 42,
   "id": "c9ef3f2a",
   "metadata": {},
   "outputs": [
    {
     "name": "stdout",
     "output_type": "stream",
     "text": [
      "se han generado un total de 100 individuos de la poblacion Megadolon\n"
     ]
    }
   ],
   "source": [
    "#se generan individuos en esa poblacion\n",
    "humanos.generateIndividuals()"
   ]
  },
  {
   "cell_type": "code",
   "execution_count": null,
   "id": "196ce32f",
   "metadata": {},
   "outputs": [],
   "source": [
    "#parametro opcional show, permite elegir cuantos elementos se muestran (por defecto se muestran 10)\n",
    "humanos.printIndiv(show=15)"
   ]
  },
  {
   "cell_type": "code",
   "execution_count": null,
   "id": "e503de5b",
   "metadata": {},
   "outputs": [],
   "source": [
    "humanos.getMeanAge()"
   ]
  },
  {
   "cell_type": "code",
   "execution_count": null,
   "id": "2fd4d741",
   "metadata": {},
   "outputs": [],
   "source": [
    "#devuelve un diccionario con un resumen de las frecuencias absolutas para cada gen\n",
    "humanos.getGenotype()"
   ]
  },
  {
   "cell_type": "code",
   "execution_count": null,
   "id": "35377509",
   "metadata": {},
   "outputs": [],
   "source": [
    "#comienza a correr el tiempo (no implementado)\n",
    "#humanos.age()"
   ]
  },
  {
   "cell_type": "code",
   "execution_count": null,
   "id": "10486442",
   "metadata": {},
   "outputs": [],
   "source": [
    "#check if population attribute gen1List is actually a object class parameter\n",
    "print(hasattr(Population,'summary'))\n",
    "print(hasattr(Population,'Population.size'))\n",
    "print(hasattr(Individual,'vida_media'))\n",
    "print(vars(Population))"
   ]
  },
  {
   "cell_type": "code",
   "execution_count": 46,
   "id": "f7818e85",
   "metadata": {},
   "outputs": [
    {
     "name": "stdout",
     "output_type": "stream",
     "text": [
      "{'A': [0, 0, 0], 'B': [0, 0, 0]}\n"
     ]
    }
   ],
   "source": [
    "humanos.genot()"
   ]
  },
  {
   "cell_type": "markdown",
   "id": "4a906155",
   "metadata": {},
   "source": []
  }
 ],
 "metadata": {
  "kernelspec": {
   "display_name": "Python 3",
   "language": "python",
   "name": "python3"
  },
  "language_info": {
   "codemirror_mode": {
    "name": "ipython",
    "version": 3
   },
   "file_extension": ".py",
   "mimetype": "text/x-python",
   "name": "python",
   "nbconvert_exporter": "python",
   "pygments_lexer": "ipython3",
   "version": "3.8.8"
  }
 },
 "nbformat": 4,
 "nbformat_minor": 5
}
