{
 "cells": [
  {
   "cell_type": "markdown",
   "id": "75468b94",
   "metadata": {},
   "source": [
    "#### Population\n",
    "Primero creamos la clase poblacion, tendra atributos generales de toda la poblacion como el nombre, tama;o, ploidia y vida media (habran mas seguramente).\n",
    "\n",
    "Despues se crea la clase individuo, que hereda de poblacion sus atributos y ademas tendra otros tales como el identificador, la edad, el sexo, su genotipo y quiza sus padres **ver como implementar**"
   ]
  },
  {
   "cell_type": "code",
   "execution_count": 9,
   "id": "4ca069c6",
   "metadata": {},
   "outputs": [],
   "source": [
    "from random import randint\n",
    "\n",
    "#clase poblacion,atributos generales que heredara de los individuos\n",
    "class Population:\n",
    "    \n",
    "    def __init__(self,size = 100,name=\"Homo sapiens\",ploidy = 2, vida_media=55):\n",
    "        self.name = name\n",
    "        self.size = size\n",
    "        self.ploidy = ploidy\n",
    "        self.indiv = []\n",
    "        #ejecuta la funcion para crear las variables globales que contengan los genotipos posibles\n",
    "        self.allGenotypes()\n",
    "        \n",
    "    #genera indivividuos\n",
    "    def generateIndividuals(self):\n",
    "        self.indiv = [Individual(self.size,i,self.name,self.ploidy) for i in range(self.size)]\n",
    "        print(\"se han generado un total de {} individuos de la poblacion {}\".format(self.size,self.name))\n",
    "        \n",
    "    #printa individuos        \n",
    "    def printIndiv(self):\n",
    "        print(\"IDENTIF SEX AGE GENOTYPE\".replace(\" \",\"\\t\"))\n",
    "        for x in self.indiv:\n",
    "            print (x.ide,x.sex,x.age,*x.genotype.values(),sep=\"\\t\")\n",
    "            \n",
    "    def getMeanAge(self):\n",
    "        #obtienes la edad media recorriendo la lista de individuos\n",
    "        try:\n",
    "            meanAge = 0\n",
    "            for obj in self.indiv:\n",
    "                meanAge += obj.age\n",
    "            meanAge = round(meanAge/len(self.indiv),2)\n",
    "            print(\"la edad media de la poblacion es: \",meanAge)\n",
    "        except:\n",
    "            print(\"No has inicializado la poblacion\")\n",
    "            \n",
    "    def allGenotypes(self):\n",
    "        #funcion que genera el conjunto de genotipos posibles para esta poblacion\n",
    "        global gen1List\n",
    "        global gen2List\n",
    "        \n",
    "        if self.ploidy==2:\n",
    "            gen1List = list([x for x in itertools.product('Aa',repeat=2)])\n",
    "            gen2List = list([x for x in itertools.product('Bb',repeat=2)])\n",
    "        else:\n",
    "            gen1List = [x for x in itertools.product('Aa',repeat=1)]\n",
    "            gen2List = [x for x in itertools.product('Bb',repeat=1)]\n",
    "            \n",
    "            \n",
    "    def getGenotype(self):\n",
    "        pass\n",
    "        \n"
   ]
  },
  {
   "cell_type": "markdown",
   "id": "39b87b23",
   "metadata": {},
   "source": [
    "sobre los atributos:\n",
    "    -Sex: tipo char M for male and F for female\n",
    "    -Ide: identificador, para cada individuo (mirar de construir la lista de individuos con forma de diccionario para acceder por su identificador)\n",
    "    -Age: numeric int, comienza en 0\n",
    "    -genotype: quiza un diccionario tipo {gen1:'AA',gen2:'Bb'}, en cualquier caso se puede hacer un conjunto con todos los posibles genotipos y escoger aleatoriamente"
   ]
  },
  {
   "cell_type": "code",
   "execution_count": 13,
   "id": "c397ddcf",
   "metadata": {},
   "outputs": [],
   "source": [
    "#clase individuo, hereda de poblacion\n",
    "import itertools\n",
    "import random\n",
    "\n",
    "class Individual(Population):\n",
    "\n",
    "    def __init__(self,size,i,name,ploidy):\n",
    "        Population.__init__(self,size,name,ploidy)\n",
    "        self.sex = self.sex()\n",
    "        self.ide = \"id\"+str(i)\n",
    "        self.age = 0\n",
    "        self.genotype = self.firstGenotipo(self.ploidy)\n",
    "        \n",
    "    def sex(self):\n",
    "        if randint(0,1)==0:\n",
    "            return \"Male\"\n",
    "        else:\n",
    "            return 'Female'\n",
    "        \n",
    "    def edad(self):\n",
    "        #el usuario debera pasar algun parametro para indicar la dist por edades\n",
    "        pass\n",
    "    \n",
    "    def firstGenotipo(self,homogeneous=False):\n",
    "        if homogeneous:\n",
    "            return {'gen1':'Aa','gen2':'Bb'}\n",
    "        else:\n",
    "            return self.chooseGenotype()\n",
    "        \n",
    "    def chooseGenotype(self):\n",
    "        dict = {}\n",
    "        \n",
    "        dict['gen1']= random.choice(gen1List)\n",
    "        dict['gen2']= random.choice(gen2List)\n",
    "        \n",
    "        return dict\n",
    "    \n",
    "    def printer(self):\n",
    "        #en un principio esto no es necesario ya que no interesa conocer a un individuo concreto\n",
    "        print(\"este individuo es {}, su sexo es {} y su genotipo es {}\".format(self.ide,self.sex,self.genotype))\n"
   ]
  },
  {
   "cell_type": "code",
   "execution_count": 14,
   "id": "3253b842",
   "metadata": {},
   "outputs": [],
   "source": [
    "#se crea una nueva poblacion donde se especifican caracteristicas generales de esta\n",
    "humanos = Population(size=10,name=\"Megadolon\",ploidy=2,vida_media=23)"
   ]
  },
  {
   "cell_type": "code",
   "execution_count": 15,
   "id": "c9ef3f2a",
   "metadata": {},
   "outputs": [
    {
     "name": "stdout",
     "output_type": "stream",
     "text": [
      "se han generado un total de 10 individuos de la poblacion Megadolon\n"
     ]
    }
   ],
   "source": [
    "#se generan individuos en esa poblacion\n",
    "humanos.generateIndividuals()"
   ]
  },
  {
   "cell_type": "code",
   "execution_count": 16,
   "id": "196ce32f",
   "metadata": {},
   "outputs": [
    {
     "name": "stdout",
     "output_type": "stream",
     "text": [
      "IDENTIF\tSEX\tAGE\tGENOTYPE\n",
      "id0\tMale\t0\tAa\tBb\n",
      "id1\tMale\t0\tAa\tBb\n",
      "id2\tMale\t0\tAa\tBb\n",
      "id3\tFemale\t0\tAa\tBb\n",
      "id4\tMale\t0\tAa\tBb\n",
      "id5\tFemale\t0\tAa\tBb\n",
      "id6\tMale\t0\tAa\tBb\n",
      "id7\tFemale\t0\tAa\tBb\n",
      "id8\tMale\t0\tAa\tBb\n",
      "id9\tMale\t0\tAa\tBb\n"
     ]
    }
   ],
   "source": [
    "humanos.printIndiv()"
   ]
  },
  {
   "cell_type": "code",
   "execution_count": null,
   "id": "35377509",
   "metadata": {},
   "outputs": [],
   "source": [
    "#comienza a correr el tiempo\n",
    "humanos.age()"
   ]
  },
  {
   "cell_type": "code",
   "execution_count": null,
   "id": "e503de5b",
   "metadata": {},
   "outputs": [],
   "source": [
    "humanos.getMeanAge()"
   ]
  },
  {
   "cell_type": "code",
   "execution_count": 8,
   "id": "59acb93a",
   "metadata": {},
   "outputs": [
    {
     "name": "stdout",
     "output_type": "stream",
     "text": [
      "[\"('A', 'A')\", \"('A', 'a')\", \"('a', 'A')\", \"('a', 'a')\"]\n"
     ]
    }
   ],
   "source": [
    "print(gen1List)"
   ]
  }
 ],
 "metadata": {
  "kernelspec": {
   "display_name": "Python 3",
   "language": "python",
   "name": "python3"
  },
  "language_info": {
   "codemirror_mode": {
    "name": "ipython",
    "version": 3
   },
   "file_extension": ".py",
   "mimetype": "text/x-python",
   "name": "python",
   "nbconvert_exporter": "python",
   "pygments_lexer": "ipython3",
   "version": "3.8.8"
  }
 },
 "nbformat": 4,
 "nbformat_minor": 5
}
