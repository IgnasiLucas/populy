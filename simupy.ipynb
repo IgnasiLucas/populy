{
 "cells": [
  {
   "cell_type": "markdown",
   "id": "75468b94",
   "metadata": {},
   "source": [
    "## Population\n",
    "Primero creamos la clase poblacion, tendra atributos generales de toda la poblacion como el nombre, tama;o, ploidia y vida media (habran mas seguramente).\n",
    "\n",
    "Despues se crea la clase individuo, que hereda de poblacion sus atributos y ademas tendra otros tales como el identificador, la edad, el sexo, su genotipo y quiza sus padres **ver como implementar**\n",
    "\n",
    "### Funciones\n",
    "#### init\n",
    "Inicializa los atributos, que son\n",
    "- **name** : nombre de la poblacion, no relevante\n",
    "- **size** : tama;o de la poblacion, utilizado para recorrer posteriormente los individuos entre otras\n",
    "- **ploidy** : indica si la pob esta formada por individuos haploides(1) o diploides(2)\n",
    "- **vida media** : todavia sin uso, se implementara posteriormente para generar una dist de edades y para hacerla evolucionar.\n",
    "\n",
    "Estos son los atributos que el usuario debera pasar (tiene valores por defecto), ademas se encuentran otros como:\n",
    "\n",
    "- **gen1List,gen2List** : lista con los genotipos(alelos) posibles, ahora mismo esto da problemas porque tienen que ser accesibles por la subclase Individuals pero no lo son.\n",
    "#### _getGen..\n",
    "Este nuevo metodo se ha hecho para hacer accesible los atributos fuera de la clase y en la subclase pero tambien da problemas.\n",
    "\n",
    "#### generateIndividuals\n",
    "No se le pasa ningun parametro (posiblemente se cambie ya que el usuario deberia poder elegir ciertas cosas), tampoco devuelve ninguno.\n",
    "Dentro, genera **indiv** que es una lista de objetos tipo **individuo** de tama;o size, ademas printa por pantalla que se ha completado el proceso\n",
    "#### printIndiv\n",
    "recorre la lista en un bucle y printa los atributos de cada instancia de individuo en la lista hay que **ver como hacer para printar solo un rango determinado**\n",
    "#### getMeanAge\n",
    "Calcula la edad media de la poblacion, de momento siempre 0\n",
    "#### allGenotypes\n",
    "Funcion que genera listas globales para que sean accesibles por la clase hija (probablemente haya otra forma mejor de hacerlo), estas listas contienen los alelos posibles para cada gen\n",
    "#### getGenotype\n",
    "Todavia no implementada, en un futuro te dira un resumen de los genotipos: frecuencia\n",
    "#### summary\n",
    "En un futuro, te dara un resumen de todos los atributos de la poblacion (media de edad, frecuencia de cada sexo, frecuencias alelicas, genotipicas y fenotipicas) todo esto lo hara probablemente llamando a otras funciones\n"
   ]
  },
  {
   "cell_type": "code",
   "execution_count": 142,
   "id": "4ca069c6",
   "metadata": {},
   "outputs": [],
   "source": [
    "from random import randint\n",
    "\n",
    "#clase poblacion,atributos generales que heredara de los individuos\n",
    "class Population:\n",
    "\n",
    "    def __init__(self,size = 100,name=\"Homo sapiens\",ploidy = 2, vida_media=55):\n",
    "        self.name = name\n",
    "        self.size = size\n",
    "        self.ploidy = ploidy\n",
    "        self.gen1List = []\n",
    "        self.gen2List = []\n",
    "        #ejecuta la funcion para crear las variables globales que contengan los genotipos posibles\n",
    "        self.allGenotypes()\n",
    "        \n",
    "    def _getGen1List(self):\n",
    "        return self.gen1List\n",
    "    def _getGen2List(self):\n",
    "        return self.gen2List\n",
    "    \n",
    "    #genera indivividuos\n",
    "    def generateIndividuals(self):\n",
    "        self.indiv = [Individual(i) for i in range(self.size)]\n",
    "        print(\"se han generado un total de {} individuos de la poblacion {}\".format(self.size,self.name))\n",
    "        \n",
    "    #printa individuos        \n",
    "    def printIndiv(self):\n",
    "        print(\"IDENTIF SEX AGE GENOTYPE\".replace(\" \",\"\\t\"))\n",
    "        for x in self.indiv:\n",
    "            print (x.ide,x.sex,x.age,*x.genotype.values(),sep=\"\\t\")\n",
    "            \n",
    "    def getMeanAge(self):\n",
    "        #obtienes la edad media recorriendo la lista de individuos\n",
    "        try:\n",
    "            meanAge = 0\n",
    "            for obj in self.indiv:\n",
    "                meanAge += obj.age\n",
    "            meanAge = round(meanAge/len(self.indiv),2)\n",
    "            print(\"la edad media de la poblacion es: \",meanAge)\n",
    "        except:\n",
    "            print(\"No has inicializado la poblacion\")\n",
    "            \n",
    "    def allGenotypes(self):\n",
    "        #funcion que genera el conjunto de genotipos posibles para esta poblacion\n",
    "        if self.ploidy==2:\n",
    "            gen1List = [x for x in itertools.product('Aa',repeat=2)]\n",
    "\n",
    "            #gen1List = [''.join(elem) for elem in gen1List]\n",
    "            gen2List = [x for x in itertools.product('Bb',repeat=2)]\n",
    "            #gen1List = [''.join(elem) for elem in gen1List]\n",
    "            print(gen1List,gen2List)\n",
    "        else:\n",
    "            gen1List = [x for x in itertools.product('Aa',repeat=1)]\n",
    "            gen2List = [x for x in itertools.product('Bb',repeat=1)]\n",
    "             \n",
    "    def getGenotype(self):\n",
    "        pass\n",
    "    def summary(self):\n",
    "        pass\n"
   ]
  },
  {
   "cell_type": "markdown",
   "id": "39b87b23",
   "metadata": {},
   "source": [
    "# Individual\n",
    "Individual se trata de una clase que hereda de population, esto es, comparte atributos (y teoricamente metodos) de su clase madre. Realmente no se si es estrictamente necesario hacer una estructura de herencia pero creo que es coherente con lo que se quiere realizar aunque todavia no esta bien implementado *falta revision*.\n",
    "\n",
    "Esta clase consta de los atributos y metodos necesarios para dar lugar a un individuo que formara parte de la poblacion, los atributos son: \n",
    "\n",
    "## atributos\n",
    "- Sex: tipo string male and female\n",
    "- Ide: identificador, para cada individuo (mirar de construir la lista de individuos con forma de diccionario para acceder por su identificador)\n",
    "- Age: numeric int, comienza en 0\n",
    "- genotype: quiza un diccionario tipo {gen1:'AA',gen2:'Bb'}, en cualquier caso se puede hacer un conjunto con todos los posibles genotipos y escoger aleatoriamente.\n",
    "- + los atributos de la superclase, que estan fuera del metodo init PERO quiza no deberian mostrarse asi, debe haber alguna forma mejor de heredar los atributos de la superclase o hacerlos accesible ya que de esta forma cada instancia de Individuals genera de nuevo las mismas variables con los mismos valores (creo)\n",
    "\n",
    "## Metodos\n",
    "\n",
    "### init\n",
    "Inicializa los atributos vistos anteriormente, la forma de inicializarlos puede no ser la correcta ya que en muchos se esta llamando a un metodo de la clase pero de momento funciona\n",
    "\n",
    "### sex\n",
    "Le da un valor de sexo a cada individuo de forma aleatoria al 50%, no requiere ningun parametro, devuelve male o female\n",
    "### edad\n",
    "Al igual que sex, asigna una edad a cada individuo. Esto habra que repensarlo porque la edad comienza en 0 para todos, dependiendo de como lo quiera implementar cuando la poblacion empiece a evolucionar esta edad debera ir aumentando para todos, algunos individuos iran muriendo = eliminando de la lista de objetos en la poblacion. Si este metodo hace correr el tiempo quiza seria mejor tenerlo en poblacion ya que el tiempo corre para todos igual *revisar*\n",
    "### firstGenotipo y chooseGenotype\n",
    "Genera un diccionario gen:alelos para 2 genes en total (mirar de aumentarlo mas adelante), los alelos se obtienen de la lista de alelos posibles de la clase population y se asigna uno de estos aleatoriamente si asi se quiere, si no se puede inicializar a todos los individuos con el mismo genotipo Aa/Bb. *ver como el usuario pueda pasar esta forma de generar genotipo*, seguramente desde generate individuals se deba pasar un parametro\n"
   ]
  },
  {
   "cell_type": "code",
   "execution_count": 143,
   "id": "c397ddcf",
   "metadata": {},
   "outputs": [],
   "source": [
    "#clase individuo, hereda de poblacion\n",
    "import itertools\n",
    "import random\n",
    "\n",
    "class Individual(Population):\n",
    "    \n",
    "    size = 0\n",
    "    name = \"name\"\n",
    "    ploidy = 0\n",
    "    vida_media = 0\n",
    "    \n",
    "    def __init__(self,ident):\n",
    "        self.sex = self.sex()\n",
    "        self.ide = \"id\"+str(ident)\n",
    "        self.age = 0\n",
    "        self.genotype = self.firstGenotipo()\n",
    "        Population.__init__(size,name,ploidy,vida_media)\n",
    "        \n",
    "    def sex(self):\n",
    "        if randint(0,1)==0:\n",
    "            return \"Male\"\n",
    "        else:\n",
    "            return 'Female'\n",
    "        \n",
    "    def edad(self):\n",
    "        #el usuario debera pasar algun parametro para indicar la dist por edades\n",
    "        pass\n",
    "    \n",
    "    def firstGenotipo(self,homogeneous=False):\n",
    "        if homogeneous:\n",
    "            return {'gen1':'Aa','gen2':'Bb'}\n",
    "        else:\n",
    "            return self.chooseGenotype()\n",
    "        \n",
    "    def chooseGenotype(self):\n",
    "        dict = {}\n",
    "\n",
    "        dict['gen1']= random.choice(Population._getGen1List())\n",
    "        dict['gen2']= random.choice(Population._getGen2List())\n",
    "        \n",
    "        return dict\n",
    "    \n",
    "    def printer(self):\n",
    "        #en un principio esto no es necesario ya que no interesa conocer a un individuo concreto\n",
    "        print(\"este individuo es {}, su sexo es {} y su genotipo es {}\".format(self.ide,self.sex,self.genotype))\n"
   ]
  },
  {
   "cell_type": "markdown",
   "id": "d0a6307c",
   "metadata": {},
   "source": [
    "### Problemas:\n",
    "1. Los atributos de la clase Population no son accesibles ni desde fuera (no es relevante) ni desde la clase hija Individual\n",
    "2. En teoria al heredar el constructor de la clase padre deberian heredarse todos sus atributos pero no es asi, tampoco se como hacerlo o si se esta haciendo bien(por ejemplo he creado variables de clase Population dentro de esta pero fuera del constructor)\n",
    "3. Idealmente, deberia poder acceder a los atributos de Population, quiza mediante Population.attribute() o de alguna otra forma pero no se como hacerlo"
   ]
  },
  {
   "cell_type": "code",
   "execution_count": 144,
   "id": "3253b842",
   "metadata": {},
   "outputs": [
    {
     "name": "stdout",
     "output_type": "stream",
     "text": [
      "[('A', 'A'), ('A', 'a'), ('a', 'A'), ('a', 'a')] [('B', 'B'), ('B', 'b'), ('b', 'B'), ('b', 'b')]\n"
     ]
    }
   ],
   "source": [
    "#se crea una nueva poblacion donde se especifican caracteristicas generales de esta\n",
    "humanos = Population(size=10,name=\"Megadolon\",ploidy=2,vida_media=23)"
   ]
  },
  {
   "cell_type": "code",
   "execution_count": 145,
   "id": "c9ef3f2a",
   "metadata": {},
   "outputs": [
    {
     "ename": "TypeError",
     "evalue": "_getGen1List() missing 1 required positional argument: 'self'",
     "output_type": "error",
     "traceback": [
      "\u001b[1;31m---------------------------------------------------------------------------\u001b[0m",
      "\u001b[1;31mTypeError\u001b[0m                                 Traceback (most recent call last)",
      "\u001b[1;32m<ipython-input-145-f77af5315608>\u001b[0m in \u001b[0;36m<module>\u001b[1;34m\u001b[0m\n\u001b[0;32m      1\u001b[0m \u001b[1;31m#se generan individuos en esa poblacion\u001b[0m\u001b[1;33m\u001b[0m\u001b[1;33m\u001b[0m\u001b[1;33m\u001b[0m\u001b[0m\n\u001b[1;32m----> 2\u001b[1;33m \u001b[0mhumanos\u001b[0m\u001b[1;33m.\u001b[0m\u001b[0mgenerateIndividuals\u001b[0m\u001b[1;33m(\u001b[0m\u001b[1;33m)\u001b[0m\u001b[1;33m\u001b[0m\u001b[1;33m\u001b[0m\u001b[0m\n\u001b[0m",
      "\u001b[1;32m<ipython-input-142-3feb7fd04533>\u001b[0m in \u001b[0;36mgenerateIndividuals\u001b[1;34m(self)\u001b[0m\n\u001b[0;32m     20\u001b[0m     \u001b[1;31m#genera indivividuos\u001b[0m\u001b[1;33m\u001b[0m\u001b[1;33m\u001b[0m\u001b[1;33m\u001b[0m\u001b[0m\n\u001b[0;32m     21\u001b[0m     \u001b[1;32mdef\u001b[0m \u001b[0mgenerateIndividuals\u001b[0m\u001b[1;33m(\u001b[0m\u001b[0mself\u001b[0m\u001b[1;33m)\u001b[0m\u001b[1;33m:\u001b[0m\u001b[1;33m\u001b[0m\u001b[1;33m\u001b[0m\u001b[0m\n\u001b[1;32m---> 22\u001b[1;33m         \u001b[0mself\u001b[0m\u001b[1;33m.\u001b[0m\u001b[0mindiv\u001b[0m \u001b[1;33m=\u001b[0m \u001b[1;33m[\u001b[0m\u001b[0mIndividual\u001b[0m\u001b[1;33m(\u001b[0m\u001b[0mi\u001b[0m\u001b[1;33m)\u001b[0m \u001b[1;32mfor\u001b[0m \u001b[0mi\u001b[0m \u001b[1;32min\u001b[0m \u001b[0mrange\u001b[0m\u001b[1;33m(\u001b[0m\u001b[0mself\u001b[0m\u001b[1;33m.\u001b[0m\u001b[0msize\u001b[0m\u001b[1;33m)\u001b[0m\u001b[1;33m]\u001b[0m\u001b[1;33m\u001b[0m\u001b[1;33m\u001b[0m\u001b[0m\n\u001b[0m\u001b[0;32m     23\u001b[0m         \u001b[0mprint\u001b[0m\u001b[1;33m(\u001b[0m\u001b[1;34m\"se han generado un total de {} individuos de la poblacion {}\"\u001b[0m\u001b[1;33m.\u001b[0m\u001b[0mformat\u001b[0m\u001b[1;33m(\u001b[0m\u001b[0mself\u001b[0m\u001b[1;33m.\u001b[0m\u001b[0msize\u001b[0m\u001b[1;33m,\u001b[0m\u001b[0mself\u001b[0m\u001b[1;33m.\u001b[0m\u001b[0mname\u001b[0m\u001b[1;33m)\u001b[0m\u001b[1;33m)\u001b[0m\u001b[1;33m\u001b[0m\u001b[1;33m\u001b[0m\u001b[0m\n\u001b[0;32m     24\u001b[0m \u001b[1;33m\u001b[0m\u001b[0m\n",
      "\u001b[1;32m<ipython-input-142-3feb7fd04533>\u001b[0m in \u001b[0;36m<listcomp>\u001b[1;34m(.0)\u001b[0m\n\u001b[0;32m     20\u001b[0m     \u001b[1;31m#genera indivividuos\u001b[0m\u001b[1;33m\u001b[0m\u001b[1;33m\u001b[0m\u001b[1;33m\u001b[0m\u001b[0m\n\u001b[0;32m     21\u001b[0m     \u001b[1;32mdef\u001b[0m \u001b[0mgenerateIndividuals\u001b[0m\u001b[1;33m(\u001b[0m\u001b[0mself\u001b[0m\u001b[1;33m)\u001b[0m\u001b[1;33m:\u001b[0m\u001b[1;33m\u001b[0m\u001b[1;33m\u001b[0m\u001b[0m\n\u001b[1;32m---> 22\u001b[1;33m         \u001b[0mself\u001b[0m\u001b[1;33m.\u001b[0m\u001b[0mindiv\u001b[0m \u001b[1;33m=\u001b[0m \u001b[1;33m[\u001b[0m\u001b[0mIndividual\u001b[0m\u001b[1;33m(\u001b[0m\u001b[0mi\u001b[0m\u001b[1;33m)\u001b[0m \u001b[1;32mfor\u001b[0m \u001b[0mi\u001b[0m \u001b[1;32min\u001b[0m \u001b[0mrange\u001b[0m\u001b[1;33m(\u001b[0m\u001b[0mself\u001b[0m\u001b[1;33m.\u001b[0m\u001b[0msize\u001b[0m\u001b[1;33m)\u001b[0m\u001b[1;33m]\u001b[0m\u001b[1;33m\u001b[0m\u001b[1;33m\u001b[0m\u001b[0m\n\u001b[0m\u001b[0;32m     23\u001b[0m         \u001b[0mprint\u001b[0m\u001b[1;33m(\u001b[0m\u001b[1;34m\"se han generado un total de {} individuos de la poblacion {}\"\u001b[0m\u001b[1;33m.\u001b[0m\u001b[0mformat\u001b[0m\u001b[1;33m(\u001b[0m\u001b[0mself\u001b[0m\u001b[1;33m.\u001b[0m\u001b[0msize\u001b[0m\u001b[1;33m,\u001b[0m\u001b[0mself\u001b[0m\u001b[1;33m.\u001b[0m\u001b[0mname\u001b[0m\u001b[1;33m)\u001b[0m\u001b[1;33m)\u001b[0m\u001b[1;33m\u001b[0m\u001b[1;33m\u001b[0m\u001b[0m\n\u001b[0;32m     24\u001b[0m \u001b[1;33m\u001b[0m\u001b[0m\n",
      "\u001b[1;32m<ipython-input-143-768395d4a898>\u001b[0m in \u001b[0;36m__init__\u001b[1;34m(self, ident)\u001b[0m\n\u001b[0;32m     14\u001b[0m         \u001b[0mself\u001b[0m\u001b[1;33m.\u001b[0m\u001b[0mide\u001b[0m \u001b[1;33m=\u001b[0m \u001b[1;34m\"id\"\u001b[0m\u001b[1;33m+\u001b[0m\u001b[0mstr\u001b[0m\u001b[1;33m(\u001b[0m\u001b[0mident\u001b[0m\u001b[1;33m)\u001b[0m\u001b[1;33m\u001b[0m\u001b[1;33m\u001b[0m\u001b[0m\n\u001b[0;32m     15\u001b[0m         \u001b[0mself\u001b[0m\u001b[1;33m.\u001b[0m\u001b[0mage\u001b[0m \u001b[1;33m=\u001b[0m \u001b[1;36m0\u001b[0m\u001b[1;33m\u001b[0m\u001b[1;33m\u001b[0m\u001b[0m\n\u001b[1;32m---> 16\u001b[1;33m         \u001b[0mself\u001b[0m\u001b[1;33m.\u001b[0m\u001b[0mgenotype\u001b[0m \u001b[1;33m=\u001b[0m \u001b[0mself\u001b[0m\u001b[1;33m.\u001b[0m\u001b[0mfirstGenotipo\u001b[0m\u001b[1;33m(\u001b[0m\u001b[1;33m)\u001b[0m\u001b[1;33m\u001b[0m\u001b[1;33m\u001b[0m\u001b[0m\n\u001b[0m\u001b[0;32m     17\u001b[0m         \u001b[0mPopulation\u001b[0m\u001b[1;33m.\u001b[0m\u001b[0m__init__\u001b[0m\u001b[1;33m(\u001b[0m\u001b[0msize\u001b[0m\u001b[1;33m,\u001b[0m\u001b[0mname\u001b[0m\u001b[1;33m,\u001b[0m\u001b[0mploidy\u001b[0m\u001b[1;33m,\u001b[0m\u001b[0mvida_media\u001b[0m\u001b[1;33m)\u001b[0m\u001b[1;33m\u001b[0m\u001b[1;33m\u001b[0m\u001b[0m\n\u001b[0;32m     18\u001b[0m \u001b[1;33m\u001b[0m\u001b[0m\n",
      "\u001b[1;32m<ipython-input-143-768395d4a898>\u001b[0m in \u001b[0;36mfirstGenotipo\u001b[1;34m(self, homogeneous)\u001b[0m\n\u001b[0;32m     31\u001b[0m             \u001b[1;32mreturn\u001b[0m \u001b[1;33m{\u001b[0m\u001b[1;34m'gen1'\u001b[0m\u001b[1;33m:\u001b[0m\u001b[1;34m'Aa'\u001b[0m\u001b[1;33m,\u001b[0m\u001b[1;34m'gen2'\u001b[0m\u001b[1;33m:\u001b[0m\u001b[1;34m'Bb'\u001b[0m\u001b[1;33m}\u001b[0m\u001b[1;33m\u001b[0m\u001b[1;33m\u001b[0m\u001b[0m\n\u001b[0;32m     32\u001b[0m         \u001b[1;32melse\u001b[0m\u001b[1;33m:\u001b[0m\u001b[1;33m\u001b[0m\u001b[1;33m\u001b[0m\u001b[0m\n\u001b[1;32m---> 33\u001b[1;33m             \u001b[1;32mreturn\u001b[0m \u001b[0mself\u001b[0m\u001b[1;33m.\u001b[0m\u001b[0mchooseGenotype\u001b[0m\u001b[1;33m(\u001b[0m\u001b[1;33m)\u001b[0m\u001b[1;33m\u001b[0m\u001b[1;33m\u001b[0m\u001b[0m\n\u001b[0m\u001b[0;32m     34\u001b[0m \u001b[1;33m\u001b[0m\u001b[0m\n\u001b[0;32m     35\u001b[0m     \u001b[1;32mdef\u001b[0m \u001b[0mchooseGenotype\u001b[0m\u001b[1;33m(\u001b[0m\u001b[0mself\u001b[0m\u001b[1;33m)\u001b[0m\u001b[1;33m:\u001b[0m\u001b[1;33m\u001b[0m\u001b[1;33m\u001b[0m\u001b[0m\n",
      "\u001b[1;32m<ipython-input-143-768395d4a898>\u001b[0m in \u001b[0;36mchooseGenotype\u001b[1;34m(self)\u001b[0m\n\u001b[0;32m     36\u001b[0m         \u001b[0mdict\u001b[0m \u001b[1;33m=\u001b[0m \u001b[1;33m{\u001b[0m\u001b[1;33m}\u001b[0m\u001b[1;33m\u001b[0m\u001b[1;33m\u001b[0m\u001b[0m\n\u001b[0;32m     37\u001b[0m \u001b[1;33m\u001b[0m\u001b[0m\n\u001b[1;32m---> 38\u001b[1;33m         \u001b[0mdict\u001b[0m\u001b[1;33m[\u001b[0m\u001b[1;34m'gen1'\u001b[0m\u001b[1;33m]\u001b[0m\u001b[1;33m=\u001b[0m \u001b[0mrandom\u001b[0m\u001b[1;33m.\u001b[0m\u001b[0mchoice\u001b[0m\u001b[1;33m(\u001b[0m\u001b[0mPopulation\u001b[0m\u001b[1;33m.\u001b[0m\u001b[0m_getGen1List\u001b[0m\u001b[1;33m(\u001b[0m\u001b[1;33m)\u001b[0m\u001b[1;33m)\u001b[0m\u001b[1;33m\u001b[0m\u001b[1;33m\u001b[0m\u001b[0m\n\u001b[0m\u001b[0;32m     39\u001b[0m         \u001b[0mdict\u001b[0m\u001b[1;33m[\u001b[0m\u001b[1;34m'gen2'\u001b[0m\u001b[1;33m]\u001b[0m\u001b[1;33m=\u001b[0m \u001b[0mrandom\u001b[0m\u001b[1;33m.\u001b[0m\u001b[0mchoice\u001b[0m\u001b[1;33m(\u001b[0m\u001b[0mPopulation\u001b[0m\u001b[1;33m.\u001b[0m\u001b[0m_getGen2List\u001b[0m\u001b[1;33m(\u001b[0m\u001b[1;33m)\u001b[0m\u001b[1;33m)\u001b[0m\u001b[1;33m\u001b[0m\u001b[1;33m\u001b[0m\u001b[0m\n\u001b[0;32m     40\u001b[0m \u001b[1;33m\u001b[0m\u001b[0m\n",
      "\u001b[1;31mTypeError\u001b[0m: _getGen1List() missing 1 required positional argument: 'self'"
     ]
    }
   ],
   "source": [
    "#se generan individuos en esa poblacion\n",
    "humanos.generateIndividuals()"
   ]
  },
  {
   "cell_type": "code",
   "execution_count": 120,
   "id": "196ce32f",
   "metadata": {},
   "outputs": [
    {
     "name": "stdout",
     "output_type": "stream",
     "text": [
      "IDENTIF\tSEX\tAGE\tGENOTYPE\n",
      "id0\tMale\t0\tAa\tBb\n",
      "id1\tFemale\t0\tAa\tBb\n",
      "id2\tMale\t0\tAa\tBb\n",
      "id3\tFemale\t0\tAa\tBb\n",
      "id4\tMale\t0\tAa\tBb\n",
      "id5\tFemale\t0\tAa\tBb\n",
      "id6\tFemale\t0\tAa\tBb\n",
      "id7\tFemale\t0\tAa\tBb\n",
      "id8\tMale\t0\tAa\tBb\n",
      "id9\tMale\t0\tAa\tBb\n"
     ]
    }
   ],
   "source": [
    "humanos.printIndiv()"
   ]
  },
  {
   "cell_type": "code",
   "execution_count": null,
   "id": "35377509",
   "metadata": {},
   "outputs": [],
   "source": [
    "#comienza a correr el tiempo\n",
    "humanos.age()"
   ]
  },
  {
   "cell_type": "code",
   "execution_count": null,
   "id": "e503de5b",
   "metadata": {},
   "outputs": [],
   "source": [
    "humanos.getMeanAge()"
   ]
  },
  {
   "cell_type": "code",
   "execution_count": 131,
   "id": "10486442",
   "metadata": {},
   "outputs": [
    {
     "name": "stdout",
     "output_type": "stream",
     "text": [
      "True\n",
      "False\n",
      "{'__module__': '__main__', '__init__': <function Population.__init__ at 0x0000013937BBB820>, 'generateIndividuals': <function Population.generateIndividuals at 0x0000013937BBB940>, 'printIndiv': <function Population.printIndiv at 0x0000013937BBB9D0>, 'getMeanAge': <function Population.getMeanAge at 0x0000013937BBBA60>, 'allGenotypes': <function Population.allGenotypes at 0x0000013937BBBAF0>, 'getGenotype': <function Population.getGenotype at 0x0000013937BBBB80>, 'summary': <function Population.summary at 0x0000013937BBBC10>, '__dict__': <attribute '__dict__' of 'Population' objects>, '__weakref__': <attribute '__weakref__' of 'Population' objects>, '__doc__': None}\n"
     ]
    }
   ],
   "source": [
    "#check if population attribute gen1List is actually a object class parameter\n",
    "print(hasattr(Population,'summary'))\n",
    "print(hasattr(Population,'size'))\n",
    "print(vars(Population))"
   ]
  }
 ],
 "metadata": {
  "kernelspec": {
   "display_name": "Python 3",
   "language": "python",
   "name": "python3"
  },
  "language_info": {
   "codemirror_mode": {
    "name": "ipython",
    "version": 3
   },
   "file_extension": ".py",
   "mimetype": "text/x-python",
   "name": "python",
   "nbconvert_exporter": "python",
   "pygments_lexer": "ipython3",
   "version": "3.8.8"
  }
 },
 "nbformat": 4,
 "nbformat_minor": 5
}
