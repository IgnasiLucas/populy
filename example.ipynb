{
 "cells": [
  {
   "cell_type": "markdown",
   "metadata": {},
   "source": [
    "# Simupy \n",
    "(provisional, se cambiará posiblemene a evopy)\n",
    "\n",
    "## Ejemplo de uso\n",
    "\n",
    "Como utilizar el paquete desde 0 en un notebook"
   ]
  },
  {
   "cell_type": "markdown",
   "metadata": {},
   "source": [
    "El codigo de abajo ejecutaria la instalacion del paquete, para ello primero es necesario subirlo a <i>PyPi</i>, el repositorio de Python para Pip, que es su instalador. \n",
    "\n",
    "```code\n",
    "\n",
    "!pip install evopy\n",
    "\n",
    "```\n",
    "\n",
    "Todavía no se ha subido pero este paso no es necesario hacerlo ya que este notebook se está ejecutando en la carpeta del paquete"
   ]
  },
  {
   "cell_type": "markdown",
   "metadata": {},
   "source": [
    "Importamos el paquete simupy, dentro de este encontramos dos archivos (módulos) llamados populationC e individualC, dentro de cada archivo hay dos objetos (clases) llamadas Population e Individual.\n",
    "\n",
    "Solamente importamos Population, ya que este objeto sera con el que interactuemos siempre."
   ]
  },
  {
   "cell_type": "code",
   "execution_count": 1,
   "metadata": {},
   "outputs": [
    {
     "ename": "ModuleNotFoundError",
     "evalue": "No module named 'individualC'",
     "output_type": "error",
     "traceback": [
      "\u001b[1;31m---------------------------------------------------------------------------\u001b[0m",
      "\u001b[1;31mModuleNotFoundError\u001b[0m                       Traceback (most recent call last)",
      "\u001b[1;32mc:\\Users\\mario\\Google Drive\\Python\\simupy\\example.ipynb Cell 4'\u001b[0m in \u001b[0;36m<cell line: 1>\u001b[1;34m()\u001b[0m\n\u001b[1;32m----> <a href='vscode-notebook-cell:/c%3A/Users/mario/Google%20Drive/Python/simupy/example.ipynb#ch0000003?line=0'>1</a>\u001b[0m \u001b[39mfrom\u001b[39;00m \u001b[39msimupy\u001b[39;00m\u001b[39m.\u001b[39;00m\u001b[39mpopulationC\u001b[39;00m \u001b[39mimport\u001b[39;00m Population\n",
      "File \u001b[1;32mc:\\Users\\mario\\Google Drive\\Python\\simupy\\simupy\\populationC.py:7\u001b[0m, in \u001b[0;36m<module>\u001b[1;34m\u001b[0m\n\u001b[0;32m      <a href='file:///c%3A/Users/mario/Google%20Drive/Python/simupy/simupy/populationC.py?line=0'>1</a>\u001b[0m \u001b[39m'''\u001b[39;00m\n\u001b[0;32m      <a href='file:///c%3A/Users/mario/Google%20Drive/Python/simupy/simupy/populationC.py?line=1'>2</a>\u001b[0m \u001b[39mClase Poblacion, permite crear una nueva poblacion, hacerla evolucionar\u001b[39;00m\n\u001b[0;32m      <a href='file:///c%3A/Users/mario/Google%20Drive/Python/simupy/simupy/populationC.py?line=2'>3</a>\u001b[0m \u001b[39my obtener resumen de sus caracteristicas.\u001b[39;00m\n\u001b[0;32m      <a href='file:///c%3A/Users/mario/Google%20Drive/Python/simupy/simupy/populationC.py?line=3'>4</a>\u001b[0m \u001b[39m'''\u001b[39;00m\n\u001b[0;32m      <a href='file:///c%3A/Users/mario/Google%20Drive/Python/simupy/simupy/populationC.py?line=5'>6</a>\u001b[0m \u001b[39mfrom\u001b[39;00m \u001b[39mcProfile\u001b[39;00m \u001b[39mimport\u001b[39;00m label\n\u001b[1;32m----> <a href='file:///c%3A/Users/mario/Google%20Drive/Python/simupy/simupy/populationC.py?line=6'>7</a>\u001b[0m \u001b[39mfrom\u001b[39;00m \u001b[39mindividualC\u001b[39;00m \u001b[39mimport\u001b[39;00m Individual\n\u001b[0;32m      <a href='file:///c%3A/Users/mario/Google%20Drive/Python/simupy/simupy/populationC.py?line=8'>9</a>\u001b[0m \u001b[39mimport\u001b[39;00m \u001b[39mrandom\u001b[39;00m\n\u001b[0;32m     <a href='file:///c%3A/Users/mario/Google%20Drive/Python/simupy/simupy/populationC.py?line=9'>10</a>\u001b[0m \u001b[39mimport\u001b[39;00m \u001b[39mitertools\u001b[39;00m\n",
      "\u001b[1;31mModuleNotFoundError\u001b[0m: No module named 'individualC'"
     ]
    }
   ],
   "source": [
    "from simupy.populationC import Population"
   ]
  },
  {
   "cell_type": "markdown",
   "metadata": {},
   "source": [
    "En caso de que salga un error, ejecutar este código en una celda:\n",
    "```python\n",
    "\n",
    "try:\n",
    "    from simupy.populationC import Population\n",
    "except ModuleNotFoundError as e:\n",
    "    import sys\n",
    "    sys.path.append('simupy')\n",
    "finally:\n",
    "    from simupy.populationC import Population\n",
    "```"
   ]
  },
  {
   "cell_type": "markdown",
   "metadata": {},
   "source": [
    "Se instancia un objeto de la clase Population.\n",
    "\n",
    "Esto significa que tenemos una nueva poblacion vacía a la cual le hemos llamado 'human'. Esta poblacion tiene una serie de características, llamadas <b>atributos</b>, que la definen. En este caso sus valores son unos predeterminados pero se pueden cambiar pasandole el nuevo valor del atributo dentro del paréntesis tal y como se ha hecho con el tamaño (size)"
   ]
  },
  {
   "cell_type": "code",
   "execution_count": 4,
   "metadata": {},
   "outputs": [],
   "source": [
    "# se crea una nueva poblacion donde se especifican caracteristicas generales de esta\n",
    "human = Population(size=50)"
   ]
  },
  {
   "cell_type": "markdown",
   "metadata": {},
   "source": [
    "Ahora se generan los individuos, estos individuos tendran unas caracteristicas dadas por los atributos que le pasemos (o los valores predeterminados en su defecto).\n",
    "\n",
    "A generateIndividuals se le llama función de clase o método y lo que hace es ejecutar un bloque de código para nuestra poblacion human. A partir de ahora, la mayoría de código seguirá la estructura de:\n",
    "\n",
    "\"nombre de la poblacion.\"metodo\"() \n",
    "\n",
    "Lo que hace por dentro es crear una lista de instancias de la clase individuo, que suena muy complicado pero se trata del mismo proceso que arriba pero en lugar de crear una poblacion <i>Population</i> se crearan 50 individuos <i>Individual</i>."
   ]
  },
  {
   "cell_type": "code",
   "execution_count": 5,
   "metadata": {},
   "outputs": [
    {
     "name": "stdout",
     "output_type": "stream",
     "text": [
      "se han generado un total de 50 individuos de la poblacion Homo sapiens\n",
      "{'AB': [0.35], 'Ab': [0.09], 'aB': [0.23], 'ab': [0.33]}\n"
     ]
    }
   ],
   "source": [
    "# se generan individuos en esa poblacion\n",
    "human.generateIndividuals()"
   ]
  },
  {
   "cell_type": "markdown",
   "metadata": {},
   "source": [
    "Este metodo nos muestra una cantidad de individuos de nuestra poblacion"
   ]
  },
  {
   "cell_type": "code",
   "execution_count": 6,
   "metadata": {},
   "outputs": [
    {
     "name": "stdout",
     "output_type": "stream",
     "text": [
      "ide\tsex\tchromosome\tisMutated\n",
      "g0.ID-0\tMale\t{'c1': 'aB', 'c2': 'AB'}\tFalse\n",
      "g0.ID-1\tMale\t{'c1': 'ab', 'c2': 'ab'}\tFalse\n",
      "g0.ID-2\tMale\t{'c1': 'ab', 'c2': 'aB'}\tFalse\n",
      "g0.ID-3\tFemale\t{'c1': 'AB', 'c2': 'ab'}\tFalse\n",
      "g0.ID-4\tMale\t{'c1': 'ab', 'c2': 'AB'}\tFalse\n"
     ]
    }
   ],
   "source": [
    "# parametro opcional show, permite elegir cuantos elementos se muestran (por defecto se muestran 10)\n",
    "human.printIndiv(show=5)"
   ]
  },
  {
   "cell_type": "code",
   "execution_count": 9,
   "metadata": {},
   "outputs": [
    {
     "name": "stdout",
     "output_type": "stream",
     "text": [
      "ide\tsex\tchromosome\tisMutated\n",
      "print chidren\n",
      "g60.ID-0\tMale\t{'c1': 'AB', 'c2': 'AB'}\tFalse\n",
      "g60.ID-1\tFemale\t{'c1': 'AB', 'c2': 'AB'}\tFalse\n",
      "g60.ID-2\tMale\t{'c1': 'Ab', 'c2': 'AB'}\tFalse\n",
      "g60.ID-3\tFemale\t{'c1': 'AB', 'c2': 'Ab'}\tFalse\n",
      "g60.ID-4\tMale\t{'c1': 'AB', 'c2': 'Ab'}\tFalse\n",
      "ide\tsex\tchromosome\tisMutated\n",
      "print chidren\n",
      "g70.ID-0\tMale\t{'c1': 'AB', 'c2': 'AB'}\tFalse\n",
      "g70.ID-1\tMale\t{'c1': 'AB', 'c2': 'AB'}\tFalse\n",
      "g70.ID-2\tFemale\t{'c1': 'AB', 'c2': 'AB'}\tFalse\n",
      "g70.ID-3\tFemale\t{'c1': 'AB', 'c2': 'Ab'}\tFalse\n",
      "g70.ID-4\tMale\t{'c1': 'AB', 'c2': 'AB'}\tFalse\n",
      "ide\tsex\tchromosome\tisMutated\n",
      "print chidren\n",
      "g80.ID-0\tMale\t{'c1': 'AB', 'c2': 'AB'}\tFalse\n",
      "g80.ID-1\tMale\t{'c1': 'Ab', 'c2': 'Ab'}\tFalse\n",
      "g80.ID-2\tMale\t{'c1': 'Ab', 'c2': 'Ab'}\tFalse\n",
      "g80.ID-3\tFemale\t{'c1': 'Ab', 'c2': 'AB'}\tFalse\n",
      "g80.ID-4\tFemale\t{'c1': 'AB', 'c2': 'AB'}\tFalse\n",
      "ide\tsex\tchromosome\tisMutated\n",
      "print chidren\n",
      "g90.ID-0\tFemale\t{'c1': 'AB', 'c2': 'AB'}\tFalse\n",
      "g90.ID-1\tMale\t{'c1': 'AB', 'c2': 'AB'}\tFalse\n",
      "g90.ID-2\tFemale\t{'c1': 'AB', 'c2': 'AB'}\tFalse\n",
      "g90.ID-3\tFemale\t{'c1': 'AB', 'c2': 'AB'}\tFalse\n",
      "g90.ID-4\tMale\t{'c1': 'AB', 'c2': 'AB'}\tFalse\n",
      "ide\tsex\tchromosome\tisMutated\n",
      "print chidren\n",
      "g100.ID-0\tFemale\t{'c1': 'AB', 'c2': 'AB'}\tFalse\n",
      "g100.ID-1\tMale\t{'c1': 'AB', 'c2': 'AB'}\tFalse\n",
      "g100.ID-2\tMale\t{'c1': 'AB', 'c2': 'AB'}\tFalse\n",
      "g100.ID-3\tMale\t{'c1': 'AB', 'c2': 'AB'}\tFalse\n",
      "g100.ID-4\tMale\t{'c1': 'AB', 'c2': 'AB'}\tFalse\n",
      "ide\tsex\tchromosome\tisMutated\n",
      "print chidren\n",
      "g110.ID-0\tMale\t{'c1': 'AB', 'c2': 'AB'}\tFalse\n",
      "g110.ID-1\tFemale\t{'c1': 'AB', 'c2': 'AB'}\tFalse\n",
      "g110.ID-2\tFemale\t{'c1': 'AB', 'c2': 'AB'}\tFalse\n",
      "g110.ID-3\tMale\t{'c1': 'AB', 'c2': 'AB'}\tFalse\n",
      "g110.ID-4\tMale\t{'c1': 'AB', 'c2': 'AB'}\tFalse\n"
     ]
    }
   ],
   "source": [
    "\n",
    "# muestra la cantidad de individuos con 'AA','aa'...\n",
    "# human.printSummary()\n",
    "human.evolvePop(gens=55,every=10)\n"
   ]
  },
  {
   "cell_type": "code",
   "execution_count": null,
   "metadata": {},
   "outputs": [],
   "source": [
    "# se vuelve a printar los individuos, esta vez de la ultima poblacion\n",
    "human.printIndiv(show=5)\n"
   ]
  },
  {
   "cell_type": "code",
   "execution_count": null,
   "metadata": {},
   "outputs": [],
   "source": [
    "\n",
    "# printa el individuo que se quiere estudiar y sus padres\n",
    "human.printParentIndividuals(id=2)\n"
   ]
  },
  {
   "cell_type": "code",
   "execution_count": 10,
   "metadata": {},
   "outputs": [
    {
     "name": "stdout",
     "output_type": "stream",
     "text": [
      "['gen.0', 'gen.10', 'gen.20', 'gen.30', 'gen.40', 'gen.50', 'gen.60', 'gen.70', 'gen.80', 'gen.90', 'gen.100', 'gen.110']\n",
      "            A     B\n",
      "gen.0    0.40  0.60\n",
      "gen.10   0.45  0.73\n",
      "gen.20   0.50  0.81\n",
      "gen.30   0.79  0.93\n",
      "gen.40   1.00  0.80\n",
      "gen.50   0.99  0.87\n",
      "gen.60   1.00  0.83\n",
      "gen.70   1.00  0.95\n",
      "gen.80   1.00  0.63\n",
      "gen.90   1.00  0.78\n",
      "gen.100  1.00  1.00\n",
      "gen.110  1.00  1.00\n",
      "            A     B\n",
      "gen.0    0.40  0.60\n",
      "gen.10   0.45  0.73\n",
      "gen.20   0.50  0.81\n",
      "gen.30   0.79  0.93\n",
      "gen.40   1.00  0.80\n",
      "gen.50   0.99  0.87\n",
      "gen.60   1.00  0.83\n",
      "gen.70   1.00  0.95\n",
      "gen.80   1.00  0.63\n",
      "gen.90   1.00  0.78\n",
      "gen.100  1.00  1.00\n",
      "gen.110  1.00  1.00\n"
     ]
    },
    {
     "data": {
      "image/png": "[encoded data removed]",
      "text/plain": [
       "<Figure size 432x288 with 2 Axes>"
      ]
     },
     "metadata": {
      "needs_background": "light"
     },
     "output_type": "display_data"
    }
   ],
   "source": [
    "# obtiene un resumen del cambio en la frecuencia alelica y gametica\n",
    "human.plotInfo()"
   ]
  }
 ],
 "metadata": {
  "interpreter": {
   "hash": "1d1961f880fec64e110a2634d97b12f561cf9a002496e791777f3b256c591f90"
  },
  "kernelspec": {
   "display_name": "Python 3.9.7 64-bit",
   "language": "python",
   "name": "python3"
  },
  "language_info": {
   "codemirror_mode": {
    "name": "ipython",
    "version": 3
   },
   "file_extension": ".py",
   "mimetype": "text/x-python",
   "name": "python",
   "nbconvert_exporter": "python",
   "pygments_lexer": "ipython3",
   "version": "3.9.7"
  },
  "orig_nbformat": 4
 },
 "nbformat": 4,
 "nbformat_minor": 2
}
