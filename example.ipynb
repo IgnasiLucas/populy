{
 "cells": [
  {
   "cell_type": "markdown",
   "metadata": {},
   "source": [
    "# Populy\n",
    "Como utilizar el paquete desde 0 en un notebook"
   ]
  },
  {
   "cell_type": "code",
   "execution_count": null,
   "metadata": {},
   "outputs": [],
   "source": []
  },
  {
   "cell_type": "markdown",
   "metadata": {},
   "source": [
    "El codigo de abajo ejecutaria la instalacion del paquete, para ello primero es necesario subirlo a <i>PyPi</i>, el repositorio de Python para Pip, que es su instalador. \n",
    "\n",
    "```\n",
    "\n",
    "!pip install Populy\n",
    "\n",
    "```\n",
    "\n",
    "Todavía no se ha subido pero este paso no es necesario hacerlo ya que este notebook se está ejecutando en la carpeta del paquete"
   ]
  },
  {
   "cell_type": "markdown",
   "metadata": {},
   "source": [
    "Importamos el paquete simupy, dentro de este encontramos dos archivos (módulos) llamados populationC e individualC, dentro de cada archivo hay dos objetos (clases) llamadas Population e Individual.\n",
    "\n",
    "Solamente importamos Population, ya que este objeto sera con el que interactuemos siempre."
   ]
  },
  {
   "cell_type": "code",
   "execution_count": 1,
   "metadata": {},
   "outputs": [],
   "source": [
    "try:\n",
    "    from populy.population import Population\n",
    "except ModuleNotFoundError as e:\n",
    "    import sys\n",
    "    sys.path.append('populy')\n",
    "finally:\n",
    "    from populy.population import Population"
   ]
  },
  {
   "cell_type": "markdown",
   "metadata": {},
   "source": [
    "En caso de que salga un error, ejecutar este código en una celda:\n",
    "```python\n",
    "\n",
    "try:\n",
    "    from populy.population import Population\n",
    "except ModuleNotFoundError as e:\n",
    "    import sys\n",
    "    sys.path.append('populy')\n",
    "finally:\n",
    "    from populy.population import Population\n",
    "```"
   ]
  },
  {
   "cell_type": "markdown",
   "metadata": {},
   "source": [
    "Se instancia un objeto de la clase Population.\n",
    "\n",
    "Esto significa que tenemos una nueva poblacion vacía a la cual le hemos llamado 'human'. Esta poblacion tiene una serie de características, llamadas <b>atributos</b>, que la definen. En este caso sus valores son unos predeterminados pero se pueden cambiar pasandole el nuevo valor del atributo dentro del paréntesis tal y como se ha hecho con el tamaño (size)"
   ]
  },
  {
   "cell_type": "code",
   "execution_count": 2,
   "metadata": {},
   "outputs": [],
   "source": [
    "# se crea una nueva poblacion donde se especifican caracteristicas generales de esta\n",
    "human = Population(size=1000,fit=3)"
   ]
  },
  {
   "cell_type": "markdown",
   "metadata": {},
   "source": [
    "Ahora se generan los individuos, estos individuos tendran unas caracteristicas dadas por los atributos que le pasemos (o los valores predeterminados en su defecto).\n",
    "\n",
    "A generateIndividuals se le llama función de clase o método y lo que hace es ejecutar un bloque de código para nuestra poblacion human. A partir de ahora, la mayoría de código seguirá la estructura de:\n",
    "\n",
    "\"nombre de la poblacion.\"metodo\"() \n",
    "\n",
    "Lo que hace por dentro es crear una lista de instancias de la clase individuo, que suena muy complicado pero se trata del mismo proceso que arriba pero en lugar de crear una poblacion <i>Population</i> se crearan 50 individuos <i>Individual</i>."
   ]
  },
  {
   "cell_type": "code",
   "execution_count": 3,
   "metadata": {},
   "outputs": [
    {
     "name": "stdout",
     "output_type": "stream",
     "text": [
      "se han generado un total de 1000 individuos de la poblacion\n"
     ]
    }
   ],
   "source": [
    "# se generan individuos en esa poblacion\n",
    "human.generateIndividuals()"
   ]
  },
  {
   "cell_type": "markdown",
   "metadata": {},
   "source": [
    "Este método nos muestra una cantidad de individuos (5) de nuestra población"
   ]
  },
  {
   "cell_type": "code",
   "execution_count": 4,
   "metadata": {},
   "outputs": [
    {
     "name": "stdout",
     "output_type": "stream",
     "text": [
      "ide\tsex\tchromosome\tisMutated\n",
      "g0.ID-0\tFemale\t{'c1': 'AB', 'c2': 'AB'}\tFalse\n",
      "g0.ID-1\tFemale\t{'c1': 'AB', 'c2': 'ab'}\tFalse\n",
      "g0.ID-2\tMale\t{'c1': 'ab', 'c2': 'ab'}\tFalse\n",
      "g0.ID-3\tMale\t{'c1': 'Ab', 'c2': 'aB'}\tFalse\n",
      "g0.ID-4\tFemale\t{'c1': 'Ab', 'c2': 'aB'}\tFalse\n"
     ]
    }
   ],
   "source": [
    "# parametro opcional show, permite elegir cuantos elementos se muestran (por defecto se muestran 10)\n",
    "human.printIndiv(show=5)"
   ]
  },
  {
   "cell_type": "markdown",
   "metadata": {},
   "source": [
    "## Evolución\n",
    "Aquí se lleva a cabo la evolución de la población. La forma de evolucionar es sencilla:\n",
    "1. Se escogen 2 individuos de forma aleatoria de nuestra población\n",
    "2. Se comprueban una serie de parámetros (si ambos son de sexos diferentes, por ejemplo)\n",
    "3. Si se cumplen estos parámetros se genera un nuevo individuo (recordemos que individuo es una forma de referirse a un objeto de la clase individuo)\n",
    "4. Dentro de cada individuo se genenera su genoma (sus cromosomas homólogos ya que se trabaja con un único cromosoma)\n",
    "5. Se realizan algunas operaciones más, como la posibilidad de una mutación o la recombinación\n",
    "6. Se aplica (o no) una función de selección que vendrá dada por su genoma, si sobrevive se añadirá a la siguiente generación (pasará el filtro)\n",
    "8. Repetir el proceso hasta que tengamos una nueva población del mismo tamaño\n",
    "9. Repetir el proceso hasta llegar al número de generaciones especificada"
   ]
  },
  {
   "cell_type": "code",
   "execution_count": 5,
   "metadata": {},
   "outputs": [
    {
     "name": "stdout",
     "output_type": "stream",
     "text": [
      "5.0% completado...\n",
      "10.0% completado...\n",
      "15.0% completado...\n",
      "20.0% completado...\n",
      "25.0% completado...\n",
      "30.0% completado...\n",
      "35.0% completado...\n",
      "40.0% completado...\n",
      "45.0% completado...\n",
      "50.0% completado...\n",
      "55.0% completado...\n",
      "60.0% completado...\n",
      "65.0% completado...\n",
      "70.0% completado...\n",
      "75.0% completado...\n",
      "80.0% completado...\n",
      "85.0% completado...\n",
      "90.0% completado...\n",
      "95.0% completado...\n",
      "¡Evolucion completada!\n"
     ]
    }
   ],
   "source": [
    "\n",
    "# muestra la cantidad de individuos con 'AA','aa'...\n",
    "human.evolvePop(gens=200,every=10,printInfo=False)"
   ]
  },
  {
   "cell_type": "code",
   "execution_count": 6,
   "metadata": {},
   "outputs": [
    {
     "name": "stdout",
     "output_type": "stream",
     "text": [
      "ide\tsex\tchromosome\tisMutated\n",
      "print chidren\n",
      "g200.ID-0\tMale\t{'c1': 'AB', 'c2': 'Ab'}\tFalse\n",
      "g200.ID-1\tMale\t{'c1': 'AB', 'c2': 'AB'}\tFalse\n",
      "g200.ID-2\tFemale\t{'c1': 'AB', 'c2': 'aB'}\tFalse\n",
      "g200.ID-3\tMale\t{'c1': 'AB', 'c2': 'ab'}\tFalse\n",
      "g200.ID-4\tFemale\t{'c1': 'AB', 'c2': 'AB'}\tFalse\n",
      "g200.ID-5\tMale\t{'c1': 'AB', 'c2': 'Ab'}\tFalse\n",
      "g200.ID-6\tMale\t{'c1': 'AB', 'c2': 'Ab'}\tFalse\n",
      "g200.ID-7\tMale\t{'c1': 'AB', 'c2': 'AB'}\tFalse\n",
      "g200.ID-8\tMale\t{'c1': 'Ab', 'c2': 'AB'}\tFalse\n",
      "g200.ID-9\tFemale\t{'c1': 'AB', 'c2': 'Ab'}\tFalse\n"
     ]
    }
   ],
   "source": [
    "# se vuelve a printar los individuos, esta vez de la ultima poblacion (generación 55)\n",
    "human.printIndiv(show=10)"
   ]
  },
  {
   "cell_type": "markdown",
   "metadata": {},
   "source": [
    "## Extraer información\n",
    "Una vez completada la evolucion podemos acceder a los atributos y/o metodos de nuestra poblacion para ver si ha cambiado, o que informacion se ha ido recopilando durante la evolucion.\n"
   ]
  },
  {
   "cell_type": "code",
   "execution_count": 7,
   "metadata": {},
   "outputs": [
    {
     "name": "stdout",
     "output_type": "stream",
     "text": [
      "Frecuencias alelicas para el alelo mayor:\n",
      "{'A': 0.8916083916083917, 'B': 0.8381618381618382}\n",
      "Frecuencias gameticas:\n",
      "{'AB': 0.7472527472527473, 'Ab': 0.14435564435564435, 'aB': 0.09090909090909091, 'ab': 0.017482517482517484}\n",
      "Número de individuos que han sufrido alguna mutación: 0\n"
     ]
    }
   ],
   "source": [
    "# para ver la frecuencia alelica de la ultima poblacion [metodo]\n",
    "print(f\"Frecuencias alelicas para el alelo mayor:\\n{human.alleleFreq()}\")\n",
    "# para ver la frecuencia gametica de la poblacion [metodo]\n",
    "print(f\"Frecuencias gameticas:\\n{human.gameticFreq()}\")\n",
    "# para ver cuandos individuos han sufrido mutaciones [metodo]\n",
    "print(f\"Número de individuos que han sufrido alguna mutación: {human.findMutated()}\")"
   ]
  },
  {
   "cell_type": "markdown",
   "metadata": {},
   "source": [
    "Con estas 3 características ya podemos analizar algunos efectos de la evolución y de nuestra población. \n",
    "Vemos que las frecuencias alélicas han aumentado respecto a las frecuencias alélicas iniciales que eran: \n",
    "```python \n",
    "{'A':(0.5,0.5),'B':(0.5,0.5)}\n",
    "```\n",
    "Esto es debido principalmente a que le hemos aplicado una función de fitness en la que los dobles recesivos (o dobles menores) son eliminados de la población. Tal y como se puede observar en la frecuencia de los gametos 'ab', que es muy baja."
   ]
  },
  {
   "cell_type": "code",
   "execution_count": 8,
   "metadata": {},
   "outputs": [
    {
     "name": "stdout",
     "output_type": "stream",
     "text": [
      "Este individuo es g200.ID-2, su sexo es Female su genotipo es {'c1': 'AB', 'c2': 'aB'}\n",
      "su padre es g199.ID-381, \n",
      "        con genotipo {'c1': 'AB', 'c2': 'Ab'}\n",
      " su madre es g199.ID-693\n",
      "        con genotipo {'c1': 'aB', 'c2': 'AB'}\n"
     ]
    }
   ],
   "source": [
    "# printa el individuo que se quiere estudiar y sus padres\n",
    "human.printParentIndividuals(id=2)"
   ]
  },
  {
   "cell_type": "markdown",
   "metadata": {},
   "source": [
    "## Representar gráficamente la evolución\n",
    "\n",
    "La forma más sencilla de ver la evolución de una población es estudiar su genoma, para nuestro ejemplo se ha especificado una población diploide con 2 locus (o genes) A y B. Podemos ver cómo ha ido cambiando la frecuencia del alelo mayor, así como de las frecuencias gaméticas.\n",
    "A partir de aquí se puede visualizar el efecto de la fijación de un alelo u otro, el efecto de la selección, de la mutación o de la frecuencia de recombinación, que al fin y al cabo es un indicador de la proximidad de los dos locus."
   ]
  },
  {
   "cell_type": "code",
   "execution_count": 9,
   "metadata": {},
   "outputs": [
    {
     "data": {
      "image/png": "[encoded data removed]",
      "text/plain": [
       "<Figure size 936x576 with 4 Axes>"
      ]
     },
     "metadata": {
      "needs_background": "light"
     },
     "output_type": "display_data"
    }
   ],
   "source": [
    "# obtiene un resumen del cambio en la frecuencia alelica y gametica\n",
    "human.plotAll(printInfo=False)"
   ]
  }
 ],
 "metadata": {
  "interpreter": {
   "hash": "1d1961f880fec64e110a2634d97b12f561cf9a002496e791777f3b256c591f90"
  },
  "kernelspec": {
   "display_name": "Python 3.9.7 64-bit",
   "language": "python",
   "name": "python3"
  },
  "language_info": {
   "codemirror_mode": {
    "name": "ipython",
    "version": 3
   },
   "file_extension": ".py",
   "mimetype": "text/x-python",
   "name": "python",
   "nbconvert_exporter": "python",
   "pygments_lexer": "ipython3",
   "version": "3.9.7"
  },
  "orig_nbformat": 4
 },
 "nbformat": 4,
 "nbformat_minor": 2
}
